{
 "cells": [
  {
   "cell_type": "code",
   "execution_count": 1,
   "metadata": {},
   "outputs": [],
   "source": [
    "import os\n",
    "import json\n",
    "import pandas as pd\n",
    "import matplotlib.pyplot as plt\n",
    "import seaborn as sns\n",
    "import numpy as np\n",
    "import copy\n",
    "plt.style.use('/raid/lingo/akyurek/mplstyle')\n",
    "plt.rc('font', serif='Times')\n",
    "plt.rc('text', usetex=False)\n",
    "plt.rcParams['figure.dpi'] = 150\n",
    "plt.rcParams['figure.facecolor'] = 'white'\n",
    "\"\"\"Google cloud directory that stores results of the experiments\"\"\"\n",
    "BASE_DIR = \"./\"\n",
    "METRICS_DIR = os.path.join(BASE_DIR, \"metrics\")"
   ]
  },
  {
   "cell_type": "code",
   "execution_count": 2,
   "metadata": {},
   "outputs": [],
   "source": [
    "def read_jsonl(path):\n",
    "    data = []\n",
    "    with open(path) as f:\n",
    "        for line in f:\n",
    "            data.append(json.loads(line))\n",
    "    return np.array(data)\n",
    "\n",
    "def read_facts(abstracts):\n",
    "    facts = set()\n",
    "    for a in abstracts:\n",
    "        for fact in a['facts'].split(';'):\n",
    "            facts.add(fact)\n",
    "    return facts\n",
    "\n",
    "def read_no_facts(abstracts):\n",
    "    return np.array([len(set(a['facts'].split(';'))) for a in abstracts])\n",
    "\n",
    "def facts_to_field(facts, field=\"obj_uri\"):\n",
    "    if field == \"obj_uri\":\n",
    "        v = [fact.split(',')[1] for fact in facts]\n",
    "    elif field == \"sub_uri\":\n",
    "        v = [fact.split(',')[2] for fact in facts]\n",
    "    else:\n",
    "        v = [fact.split(',')[0] for fact in facts]\n",
    "    return v\n",
    "\n",
    "def read_string_field(abstracts, field=\"obj_uri\"):\n",
    "    return np.array([a[field] for a in abstracts])\n",
    "\n",
    "\n",
    "def get_sentence(abstract):\n",
    "    targets = abstract['targets_pretokenized'].replace('<extra_id_0> ', '').strip()\n",
    "    sentence = abstract['inputs_pretokenized'].replace('<extra_id_0>', targets)\n",
    "    return sentence"
   ]
  },
  {
   "cell_type": "code",
   "execution_count": 3,
   "metadata": {},
   "outputs": [
    {
     "data": {
      "text/plain": [
       "(1064471, 27528)"
      ]
     },
     "execution_count": 3,
     "metadata": {},
     "output_type": "execute_result"
    }
   ],
   "source": [
    "abstracts_path = os.path.join(BASE_DIR, \"TREx_lama_templates_v2\", \"abstracts\", \"all_used.jsonl\")\n",
    "queries_path = os.path.join(BASE_DIR, \"TREx_lama_templates_v2\", \"all.jsonl.processed\")\n",
    "abstracts = read_jsonl(abstracts_path)\n",
    "queries = read_jsonl(queries_path)\n",
    "(len(abstracts), len(queries))"
   ]
  },
  {
   "cell_type": "code",
   "execution_count": 4,
   "metadata": {},
   "outputs": [],
   "source": [
    "facts = read_facts(abstracts)\n",
    "no_facts = read_no_facts(abstracts)"
   ]
  },
  {
   "cell_type": "code",
   "execution_count": 5,
   "metadata": {},
   "outputs": [
    {
     "data": {
      "text/plain": [
       "441670"
      ]
     },
     "execution_count": 5,
     "metadata": {},
     "output_type": "execute_result"
    }
   ],
   "source": [
    "sentences = [get_sentence(abstract) for abstract in abstracts]\n",
    "len(set(sentences))"
   ]
  },
  {
   "cell_type": "code",
   "execution_count": 6,
   "metadata": {},
   "outputs": [
    {
     "data": {
      "text/plain": [
       "(317381, (3.4631746661017537, 3.3406391936613984, 1, 1047))"
      ]
     },
     "execution_count": 6,
     "metadata": {},
     "output_type": "execute_result"
    }
   ],
   "source": [
    "len(facts), tuple(f(no_facts) for f in (np.mean, np.std, np.min, np.max))"
   ]
  },
  {
   "cell_type": "code",
   "execution_count": 7,
   "metadata": {},
   "outputs": [],
   "source": [
    "pos_nos_abstracts = tuple(len(set(facts_to_field(facts, field=field))) \n",
    "        for field in ('predicate_id', 'obj_uri', 'sub_uri'))\n"
   ]
  },
  {
   "cell_type": "code",
   "execution_count": 8,
   "metadata": {},
   "outputs": [
    {
     "data": {
      "text/plain": [
       "(406, 18037, 224043)"
      ]
     },
     "execution_count": 8,
     "metadata": {},
     "output_type": "execute_result"
    }
   ],
   "source": [
    "pos_nos_abstracts"
   ]
  },
  {
   "cell_type": "code",
   "execution_count": 9,
   "metadata": {},
   "outputs": [],
   "source": [
    "objs = read_string_field(queries, field=\"obj_uri\")\n",
    "subs = read_string_field(queries, field=\"sub_uri\")\n",
    "predicates = read_string_field(queries, field=\"predicate_id\")\n",
    "pos_nos_queries = (len(set(predicates)), len(set(objs)), len(set(subs)))"
   ]
  },
  {
   "cell_type": "code",
   "execution_count": 10,
   "metadata": {},
   "outputs": [
    {
     "data": {
      "text/plain": [
       "(41, 1767, 25926)"
      ]
     },
     "execution_count": 10,
     "metadata": {},
     "output_type": "execute_result"
    }
   ],
   "source": [
    "pos_nos_queries "
   ]
  },
  {
   "cell_type": "code",
   "execution_count": null,
   "metadata": {},
   "outputs": [],
   "source": []
  }
 ],
 "metadata": {
  "kernelspec": {
   "display_name": "Python-3",
   "language": "python",
   "name": "python3"
  },
  "language_info": {
   "codemirror_mode": {
    "name": "ipython",
    "version": 3
   },
   "file_extension": ".py",
   "mimetype": "text/x-python",
   "name": "python",
   "nbconvert_exporter": "python",
   "pygments_lexer": "ipython3",
   "version": "3.7.6"
  }
 },
 "nbformat": 4,
 "nbformat_minor": 4
}
